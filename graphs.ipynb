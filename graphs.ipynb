#imports the packages
import pandas as pd
import scipy
import matplotlib.pyplot as plt
import statistics as st
#defines the data frame
df= pd.read_csv("climate-change--land-ice-mass-data---sheet1.csv")
#gets rido of row[0]
v= df.drop([0])
#naming useful columns
CO2= list(v["CO2"].values)
CO2_float= [float(i) for i in CO2]
temperature=  list(v["Temperature (calculated)"].values)
temperature_float = [float(i) for i in temperature]
ice_age= list(v["ice_age"].values)
ice_age_float= [float(i) for i in ice_age]
ice_depth= list(v["depth"].values)
ice_depth_float= [float(i) for i in ice_depth]
gas_age= list(v["gas_age"].values)
gas_age_float= [float(i) for i in gas_age]
#creates a histogram for CO2 concentration in ppmv
plt.hist(CO2_float, bins=8)
plt.xlabel("Carbon Dioxide Concentration (ppmv)")
plt.ylabel("Frequency (%)")
#creates a histogram for CO2[] in ppmv
plt.hist(temperature_float, bins= 14)
plt.xlabel("Calculated Temperature (Celsius)")
plt.ylabel("Frequency (%)")
#creates a box plot to visualize statistical useful information of the CO2 concentration
box_plot_dataframe= [CO2_float]
plt.boxplot(box_plot_dataframe, notch= False , patch_artist= True, labels=['Carbon Dioxide Box Plot'])
plt.ylabel('Carbon Dioxide Concentration(ppmv)')
#creates a box plot to visualize statistical useful information of thetemperature
box_plot_dataframe= [temperature_float]
plt.boxplot(box_plot_dataframe, notch= False , patch_artist= True, labels=['Temperature (Celsius) Box Plot'])
#Crafts a violin plot for the temperature
seaborn.violinplot(data=temperature_float)
plt.xlabel("Frequency")
plt.ylabel("Calculated Temperature (Celsius Degrees)")
#Seeing the statistics
st.mean(CO2_float)
st.mean(temperature_float)
st.stdev(CO2_float)
st.variance(CO2_float)
#Calculating the Correlation coefficient
scipy.stats.pearsonr(CO2_float, temperature_float)
#Scatter plot with trendline
plt.scatter(CO2_float, temperature_float, s=10)
plt.xlabel("Carbon Dioxide Concentration (ppmv)")
plt.ylabel("Calculated Temperature (Celsius)")
plt.text(178,-54, "Pearson Correlation Coefficient:0.81")
z = np.polyfit(CO2_float, temperature_float, 1)
p = np.poly1d(z)
plt.plot(CO2_float,p(CO2_float),"r-")
plt.legend(handles=[red])
w=stats.mstats.linregress(CO2_float, temperature_float)
plt.text(178,-55, "Trendline Equation: 0.094x -81.9")
#Scatter plot with trendline. The older the gas, the bigger the dot
plt.scatter(CO2_float, temperature_float, s=gas_age_float, alpha=0.5)
plt.xlabel("Carbon Dioxide Concentration (ppmv)")
plt.ylabel("Calculated Temperature (Celsius)")
plt.text(178,-54, "Pearson Correlation Coefficient:0.81")
plt.text(178,-55, "Trendline Equation: 0.094x -81.9")
z = np.polyfit(CO2_float, temperature_float, 1)
p = np.poly1d(z)
plt.plot(CO2_float,p(CO2_float),"r-")




